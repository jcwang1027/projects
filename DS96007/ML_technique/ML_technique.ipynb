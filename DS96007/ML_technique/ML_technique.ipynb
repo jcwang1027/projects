{
  "nbformat": 4,
  "nbformat_minor": 0,
  "metadata": {
    "colab": {
      "name": "CW2 (1).ipynb",
      "provenance": [],
      "collapsed_sections": []
    },
    "kernelspec": {
      "name": "python3",
      "display_name": "Python 3"
    }
  },
  "cells": [
    {
      "cell_type": "markdown",
      "metadata": {
        "id": "M6KwT1lpp7Oc"
      },
      "source": [
        "# ML technique \n",
        "\n"
      ]
    },
    {
      "cell_type": "code",
      "metadata": {
        "id": "PL_mS4VHgPEh"
      },
      "source": [
        "import pandas as pd\n",
        "import numpy as np\n",
        "import matplotlib.pyplot as plt\n",
        "\n",
        "import warnings\n",
        "warnings.filterwarnings(\"ignore\")\n",
        "\n",
        "import torch\n",
        "import torch.nn as nn\n",
        "import torch.utils.data\n",
        "import torch.nn.functional as F\n",
        "\n",
        "import time"
      ],
      "execution_count": null,
      "outputs": []
    },
    {
      "cell_type": "code",
      "metadata": {
        "id": "ZPNlvttogXuu",
        "outputId": "ad256427-25ec-4de1-b35b-9eaa02a06cfd",
        "colab": {
          "base_uri": "https://localhost:8080/",
          "height": 122
        }
      },
      "source": [
        "# or upload on Google Drive and mount your drive (faster than 'files')\n",
        "from google.colab import drive\n",
        "drive.mount(\"/content/drive\")"
      ],
      "execution_count": null,
      "outputs": [
        {
          "output_type": "stream",
          "text": [
            "Go to this URL in a browser: https://accounts.google.com/o/oauth2/auth?client_id=947318989803-6bn6qk8qdgf4n4g3pfee6491hc0brc4i.apps.googleusercontent.com&redirect_uri=urn%3aietf%3awg%3aoauth%3a2.0%3aoob&response_type=code&scope=email%20https%3a%2f%2fwww.googleapis.com%2fauth%2fdocs.test%20https%3a%2f%2fwww.googleapis.com%2fauth%2fdrive%20https%3a%2f%2fwww.googleapis.com%2fauth%2fdrive.photos.readonly%20https%3a%2f%2fwww.googleapis.com%2fauth%2fpeopleapi.readonly\n",
            "\n",
            "Enter your authorization code:\n",
            "··········\n",
            "Mounted at /content/drive\n"
          ],
          "name": "stdout"
        }
      ]
    },
    {
      "cell_type": "markdown",
      "metadata": {
        "id": "V0fKUKdOWxKY"
      },
      "source": [
        "# Preliminaries "
      ]
    },
    {
      "cell_type": "code",
      "metadata": {
        "id": "lf2lhyHVggVA"
      },
      "source": [
        "train_raw = pd.read_csv(\"/content/drive/My Drive/Data science /train_set.csv\")\n",
        "test_raw = pd.read_csv(\"/content/drive/My Drive/Data science /test_set.csv\")"
      ],
      "execution_count": null,
      "outputs": []
    },
    {
      "cell_type": "code",
      "metadata": {
        "id": "dPrTFAk3LtB8",
        "outputId": "5203c72a-eaef-43cd-f4f9-c566463a5ba9",
        "colab": {
          "base_uri": "https://localhost:8080/",
          "height": 204
        }
      },
      "source": [
        "#Delete first column\n",
        "train_raw=train_raw.drop(train_raw.columns[0],axis=1)\n",
        "test_raw=test_raw.drop(test_raw.columns[0],axis=1)\n",
        "train_raw.head()"
      ],
      "execution_count": null,
      "outputs": [
        {
          "output_type": "execute_result",
          "data": {
            "text/html": [
              "<div>\n",
              "<style scoped>\n",
              "    .dataframe tbody tr th:only-of-type {\n",
              "        vertical-align: middle;\n",
              "    }\n",
              "\n",
              "    .dataframe tbody tr th {\n",
              "        vertical-align: top;\n",
              "    }\n",
              "\n",
              "    .dataframe thead th {\n",
              "        text-align: right;\n",
              "    }\n",
              "</style>\n",
              "<table border=\"1\" class=\"dataframe\">\n",
              "  <thead>\n",
              "    <tr style=\"text-align: right;\">\n",
              "      <th></th>\n",
              "      <th>buying</th>\n",
              "      <th>maint</th>\n",
              "      <th>doors</th>\n",
              "      <th>persons</th>\n",
              "      <th>lug_boot</th>\n",
              "      <th>safety</th>\n",
              "      <th>rating</th>\n",
              "    </tr>\n",
              "  </thead>\n",
              "  <tbody>\n",
              "    <tr>\n",
              "      <th>0</th>\n",
              "      <td>low</td>\n",
              "      <td>med</td>\n",
              "      <td>3</td>\n",
              "      <td>4</td>\n",
              "      <td>small</td>\n",
              "      <td>high</td>\n",
              "      <td>good</td>\n",
              "    </tr>\n",
              "    <tr>\n",
              "      <th>1</th>\n",
              "      <td>vhigh</td>\n",
              "      <td>vhigh</td>\n",
              "      <td>2</td>\n",
              "      <td>2</td>\n",
              "      <td>small</td>\n",
              "      <td>low</td>\n",
              "      <td>good</td>\n",
              "    </tr>\n",
              "    <tr>\n",
              "      <th>2</th>\n",
              "      <td>med</td>\n",
              "      <td>med</td>\n",
              "      <td>5more</td>\n",
              "      <td>4</td>\n",
              "      <td>med</td>\n",
              "      <td>high</td>\n",
              "      <td>good</td>\n",
              "    </tr>\n",
              "    <tr>\n",
              "      <th>3</th>\n",
              "      <td>low</td>\n",
              "      <td>med</td>\n",
              "      <td>3</td>\n",
              "      <td>4</td>\n",
              "      <td>small</td>\n",
              "      <td>high</td>\n",
              "      <td>unacc</td>\n",
              "    </tr>\n",
              "    <tr>\n",
              "      <th>4</th>\n",
              "      <td>vhigh</td>\n",
              "      <td>vhigh</td>\n",
              "      <td>2</td>\n",
              "      <td>2</td>\n",
              "      <td>small</td>\n",
              "      <td>low</td>\n",
              "      <td>unacc</td>\n",
              "    </tr>\n",
              "  </tbody>\n",
              "</table>\n",
              "</div>"
            ],
            "text/plain": [
              "  buying  maint  doors persons lug_boot safety rating\n",
              "0    low    med      3       4    small   high   good\n",
              "1  vhigh  vhigh      2       2    small    low   good\n",
              "2    med    med  5more       4      med   high   good\n",
              "3    low    med      3       4    small   high  unacc\n",
              "4  vhigh  vhigh      2       2    small    low  unacc"
            ]
          },
          "metadata": {
            "tags": []
          },
          "execution_count": 4
        }
      ]
    },
    {
      "cell_type": "code",
      "metadata": {
        "id": "05zLuzKl_aWi",
        "outputId": "9c7774b1-d820-4c08-d39a-a1b642cb1ffb",
        "colab": {
          "base_uri": "https://localhost:8080/",
          "height": 204
        }
      },
      "source": [
        "from sklearn.preprocessing import LabelEncoder \n",
        "#Turn categorical data to numeric value for computing \n",
        "Train=train_raw.apply(LabelEncoder().fit_transform)\n",
        "Test=test_raw.apply(LabelEncoder().fit_transform)\n",
        "\n",
        "Train.head()"
      ],
      "execution_count": null,
      "outputs": [
        {
          "output_type": "execute_result",
          "data": {
            "text/html": [
              "<div>\n",
              "<style scoped>\n",
              "    .dataframe tbody tr th:only-of-type {\n",
              "        vertical-align: middle;\n",
              "    }\n",
              "\n",
              "    .dataframe tbody tr th {\n",
              "        vertical-align: top;\n",
              "    }\n",
              "\n",
              "    .dataframe thead th {\n",
              "        text-align: right;\n",
              "    }\n",
              "</style>\n",
              "<table border=\"1\" class=\"dataframe\">\n",
              "  <thead>\n",
              "    <tr style=\"text-align: right;\">\n",
              "      <th></th>\n",
              "      <th>buying</th>\n",
              "      <th>maint</th>\n",
              "      <th>doors</th>\n",
              "      <th>persons</th>\n",
              "      <th>lug_boot</th>\n",
              "      <th>safety</th>\n",
              "      <th>rating</th>\n",
              "    </tr>\n",
              "  </thead>\n",
              "  <tbody>\n",
              "    <tr>\n",
              "      <th>0</th>\n",
              "      <td>1</td>\n",
              "      <td>2</td>\n",
              "      <td>1</td>\n",
              "      <td>1</td>\n",
              "      <td>2</td>\n",
              "      <td>0</td>\n",
              "      <td>1</td>\n",
              "    </tr>\n",
              "    <tr>\n",
              "      <th>1</th>\n",
              "      <td>3</td>\n",
              "      <td>3</td>\n",
              "      <td>0</td>\n",
              "      <td>0</td>\n",
              "      <td>2</td>\n",
              "      <td>1</td>\n",
              "      <td>1</td>\n",
              "    </tr>\n",
              "    <tr>\n",
              "      <th>2</th>\n",
              "      <td>2</td>\n",
              "      <td>2</td>\n",
              "      <td>3</td>\n",
              "      <td>1</td>\n",
              "      <td>1</td>\n",
              "      <td>0</td>\n",
              "      <td>1</td>\n",
              "    </tr>\n",
              "    <tr>\n",
              "      <th>3</th>\n",
              "      <td>1</td>\n",
              "      <td>2</td>\n",
              "      <td>1</td>\n",
              "      <td>1</td>\n",
              "      <td>2</td>\n",
              "      <td>0</td>\n",
              "      <td>2</td>\n",
              "    </tr>\n",
              "    <tr>\n",
              "      <th>4</th>\n",
              "      <td>3</td>\n",
              "      <td>3</td>\n",
              "      <td>0</td>\n",
              "      <td>0</td>\n",
              "      <td>2</td>\n",
              "      <td>1</td>\n",
              "      <td>2</td>\n",
              "    </tr>\n",
              "  </tbody>\n",
              "</table>\n",
              "</div>"
            ],
            "text/plain": [
              "   buying  maint  doors  persons  lug_boot  safety  rating\n",
              "0       1      2      1        1         2       0       1\n",
              "1       3      3      0        0         2       1       1\n",
              "2       2      2      3        1         1       0       1\n",
              "3       1      2      1        1         2       0       2\n",
              "4       3      3      0        0         2       1       2"
            ]
          },
          "metadata": {
            "tags": []
          },
          "execution_count": 5
        }
      ]
    },
    {
      "cell_type": "code",
      "metadata": {
        "id": "uMLfFHPfkAO1"
      },
      "source": [
        "from sklearn.utils import shuffle\n",
        "#Balance the train data\n",
        "# class count\n",
        "count_0, count_1, count_2, count_3 = Train.rating.value_counts()\n",
        "\n",
        "# Divide by class\n",
        "df_0 = Train[Train['rating'] == 0]\n",
        "df_1 = Train[Train['rating'] == 1]\n",
        "df_2 = Train[Train['rating'] == 2]\n",
        "df_3 = Train[Train['rating'] == 3]\n",
        "# bootstrapping\n",
        "df_0_over = df_0.sample(count_1, replace=True,random_state=11).reset_index().drop(columns=['index'])\n",
        "df_1_over = df_1.sample(count_1, replace=True,random_state=11).reset_index().drop(columns=['index'])\n",
        "df_2_over = df_2.sample(count_1, replace=True,random_state=11).reset_index().drop(columns=['index'])\n",
        "df_3_over = df_3.sample(count_1, replace=True,random_state=11).reset_index().drop(columns=['index'])\n",
        "# concatenating all classes again\n",
        "data_over = pd.concat([df_0_over, df_1_over, df_2_over, df_3_over])\n",
        "X_train=data_over.loc[:,data_over.columns != 'rating'].reset_index().drop(columns=['index'])\n",
        "Y_train=data_over['rating'].reset_index().drop(columns=['index'])\n",
        "X_test=Test.loc[:,Test.columns != 'rating']\n",
        "Y_test=Test['rating']\n",
        "\n",
        "#Label for Neural Network\n",
        "Y_train_N=list(data_over.rating)\n",
        "Y_test_N=list(Test.rating)"
      ],
      "execution_count": null,
      "outputs": []
    },
    {
      "cell_type": "code",
      "metadata": {
        "id": "NL8cVXTCb5lt",
        "outputId": "bf182e5f-2e58-45c5-b40f-47f28c280145",
        "colab": {
          "base_uri": "https://localhost:8080/",
          "height": 419
        }
      },
      "source": [
        " from sklearn.preprocessing import StandardScaler\n",
        "\n",
        " #Standardize the descriptors\n",
        "\n",
        " scaler = StandardScaler()\n",
        " scaler.fit(X_train)\n",
        " Descriptor1=scaler.fit_transform(X_train)\n",
        " scaler.fit(X_test)\n",
        " Descriptor2=scaler.fit_transform(X_test)\n",
        "\n",
        " #Substitue back the standardized value\n",
        " X_train.loc[:]=Descriptor1\n",
        " X_test.loc[:]=Descriptor2\n",
        " X_train"
      ],
      "execution_count": null,
      "outputs": [
        {
          "output_type": "execute_result",
          "data": {
            "text/html": [
              "<div>\n",
              "<style scoped>\n",
              "    .dataframe tbody tr th:only-of-type {\n",
              "        vertical-align: middle;\n",
              "    }\n",
              "\n",
              "    .dataframe tbody tr th {\n",
              "        vertical-align: top;\n",
              "    }\n",
              "\n",
              "    .dataframe thead th {\n",
              "        text-align: right;\n",
              "    }\n",
              "</style>\n",
              "<table border=\"1\" class=\"dataframe\">\n",
              "  <thead>\n",
              "    <tr style=\"text-align: right;\">\n",
              "      <th></th>\n",
              "      <th>buying</th>\n",
              "      <th>maint</th>\n",
              "      <th>doors</th>\n",
              "      <th>persons</th>\n",
              "      <th>lug_boot</th>\n",
              "      <th>safety</th>\n",
              "    </tr>\n",
              "  </thead>\n",
              "  <tbody>\n",
              "    <tr>\n",
              "      <th>0</th>\n",
              "      <td>0.377143</td>\n",
              "      <td>-0.403569</td>\n",
              "      <td>-0.558991</td>\n",
              "      <td>-0.416616</td>\n",
              "      <td>-1.111227</td>\n",
              "      <td>1.356696</td>\n",
              "    </tr>\n",
              "    <tr>\n",
              "      <th>1</th>\n",
              "      <td>-1.747297</td>\n",
              "      <td>0.625739</td>\n",
              "      <td>-1.493055</td>\n",
              "      <td>-0.416616</td>\n",
              "      <td>-1.111227</td>\n",
              "      <td>-0.862946</td>\n",
              "    </tr>\n",
              "    <tr>\n",
              "      <th>2</th>\n",
              "      <td>0.377143</td>\n",
              "      <td>1.655047</td>\n",
              "      <td>-0.558991</td>\n",
              "      <td>-0.416616</td>\n",
              "      <td>0.184027</td>\n",
              "      <td>-0.862946</td>\n",
              "    </tr>\n",
              "    <tr>\n",
              "      <th>3</th>\n",
              "      <td>0.377143</td>\n",
              "      <td>-1.432877</td>\n",
              "      <td>-1.493055</td>\n",
              "      <td>1.002240</td>\n",
              "      <td>-1.111227</td>\n",
              "      <td>-0.862946</td>\n",
              "    </tr>\n",
              "    <tr>\n",
              "      <th>4</th>\n",
              "      <td>0.377143</td>\n",
              "      <td>0.625739</td>\n",
              "      <td>0.375074</td>\n",
              "      <td>-0.416616</td>\n",
              "      <td>-1.111227</td>\n",
              "      <td>-0.862946</td>\n",
              "    </tr>\n",
              "    <tr>\n",
              "      <th>...</th>\n",
              "      <td>...</td>\n",
              "      <td>...</td>\n",
              "      <td>...</td>\n",
              "      <td>...</td>\n",
              "      <td>...</td>\n",
              "      <td>...</td>\n",
              "    </tr>\n",
              "    <tr>\n",
              "      <th>3479</th>\n",
              "      <td>-0.685077</td>\n",
              "      <td>-0.403569</td>\n",
              "      <td>-0.558991</td>\n",
              "      <td>-0.416616</td>\n",
              "      <td>-1.111227</td>\n",
              "      <td>1.356696</td>\n",
              "    </tr>\n",
              "    <tr>\n",
              "      <th>3480</th>\n",
              "      <td>0.377143</td>\n",
              "      <td>-0.403569</td>\n",
              "      <td>0.375074</td>\n",
              "      <td>-0.416616</td>\n",
              "      <td>0.184027</td>\n",
              "      <td>1.356696</td>\n",
              "    </tr>\n",
              "    <tr>\n",
              "      <th>3481</th>\n",
              "      <td>1.439363</td>\n",
              "      <td>1.655047</td>\n",
              "      <td>-1.493055</td>\n",
              "      <td>-0.416616</td>\n",
              "      <td>0.184027</td>\n",
              "      <td>0.246875</td>\n",
              "    </tr>\n",
              "    <tr>\n",
              "      <th>3482</th>\n",
              "      <td>0.377143</td>\n",
              "      <td>-0.403569</td>\n",
              "      <td>-0.558991</td>\n",
              "      <td>1.002240</td>\n",
              "      <td>0.184027</td>\n",
              "      <td>-0.862946</td>\n",
              "    </tr>\n",
              "    <tr>\n",
              "      <th>3483</th>\n",
              "      <td>0.377143</td>\n",
              "      <td>-0.403569</td>\n",
              "      <td>1.309138</td>\n",
              "      <td>-0.416616</td>\n",
              "      <td>0.184027</td>\n",
              "      <td>-0.862946</td>\n",
              "    </tr>\n",
              "  </tbody>\n",
              "</table>\n",
              "<p>3484 rows × 6 columns</p>\n",
              "</div>"
            ],
            "text/plain": [
              "        buying     maint     doors   persons  lug_boot    safety\n",
              "0     0.377143 -0.403569 -0.558991 -0.416616 -1.111227  1.356696\n",
              "1    -1.747297  0.625739 -1.493055 -0.416616 -1.111227 -0.862946\n",
              "2     0.377143  1.655047 -0.558991 -0.416616  0.184027 -0.862946\n",
              "3     0.377143 -1.432877 -1.493055  1.002240 -1.111227 -0.862946\n",
              "4     0.377143  0.625739  0.375074 -0.416616 -1.111227 -0.862946\n",
              "...        ...       ...       ...       ...       ...       ...\n",
              "3479 -0.685077 -0.403569 -0.558991 -0.416616 -1.111227  1.356696\n",
              "3480  0.377143 -0.403569  0.375074 -0.416616  0.184027  1.356696\n",
              "3481  1.439363  1.655047 -1.493055 -0.416616  0.184027  0.246875\n",
              "3482  0.377143 -0.403569 -0.558991  1.002240  0.184027 -0.862946\n",
              "3483  0.377143 -0.403569  1.309138 -0.416616  0.184027 -0.862946\n",
              "\n",
              "[3484 rows x 6 columns]"
            ]
          },
          "metadata": {
            "tags": []
          },
          "execution_count": 18
        }
      ]
    },
    {
      "cell_type": "markdown",
      "metadata": {
        "id": "XrnG-XVc7g5z"
      },
      "source": [
        "# TASK 1  Random Forest Classifier"
      ]
    },
    {
      "cell_type": "code",
      "metadata": {
        "id": "ozDWaW7ci5lP",
        "outputId": "6439f62e-0c7b-45cb-ff03-ec8de79f8bb4",
        "colab": {
          "base_uri": "https://localhost:8080/",
          "height": 306
        }
      },
      "source": [
        "from sklearn.ensemble import RandomForestClassifier\n",
        "rf = RandomForestClassifier()\n",
        "from pprint import pprint\n",
        "\n",
        "# Look at parameters in random forest\n",
        "pprint(rf.get_params())\n"
      ],
      "execution_count": null,
      "outputs": [
        {
          "output_type": "stream",
          "text": [
            "{'bootstrap': True,\n",
            " 'class_weight': None,\n",
            " 'criterion': 'gini',\n",
            " 'max_depth': None,\n",
            " 'max_features': 'auto',\n",
            " 'max_leaf_nodes': None,\n",
            " 'min_impurity_decrease': 0.0,\n",
            " 'min_impurity_split': None,\n",
            " 'min_samples_leaf': 1,\n",
            " 'min_samples_split': 2,\n",
            " 'min_weight_fraction_leaf': 0.0,\n",
            " 'n_estimators': 'warn',\n",
            " 'n_jobs': None,\n",
            " 'oob_score': False,\n",
            " 'random_state': None,\n",
            " 'verbose': 0,\n",
            " 'warm_start': False}\n"
          ],
          "name": "stdout"
        }
      ]
    },
    {
      "cell_type": "markdown",
      "metadata": {
        "id": "pMP3GJQWv4gK"
      },
      "source": [
        "\n",
        "\n",
        "---\n",
        "\n",
        "## Introduction:\n",
        "We can choose the range for number of trees to be 1-100, the \n",
        "Maximum of features at split to be 1-6 which is the largest possible since we have only 6 influencing factor and maximum level of trees to be 1-20 since the optimal is always within three times the number of feature in general. Then we will use the built-in cross validation function to compute the average accuracy score of 5-fold and plot it to get the optimal value."
      ]
    },
    {
      "cell_type": "markdown",
      "metadata": {
        "id": "7r8_83aUvHlg"
      },
      "source": [
        "\n",
        "\n",
        "---\n",
        "\n"
      ]
    },
    {
      "cell_type": "code",
      "metadata": {
        "id": "WFcZ1gxSsPiE",
        "outputId": "f109abe6-eaf7-4162-d907-07704c351e8d",
        "colab": {
          "base_uri": "https://localhost:8080/",
          "height": 700
        }
      },
      "source": [
        "from sklearn.model_selection import cross_val_score\n",
        "import matplotlib.pyplot as plt\n",
        "import seaborn as sns\n",
        "import statistics\n",
        "#Import stratifiedKfold \n",
        "from sklearn.model_selection import StratifiedKFold\n",
        "start= time.process_time() \n",
        "#Set to stratifed 5 fold method\n",
        "cv = StratifiedKFold(n_splits=5, random_state=42)\n",
        "\n",
        "#Iterating one hyperparameter while keep other the same and plot the accuracy score.\n",
        "\n",
        "#Plot for number of trees\n",
        "accuracy=[]\n",
        "for i in range(1,100):\n",
        "  base_model=RandomForestClassifier(n_estimators = i,random_state=11)\n",
        "  #Use cross validation score from sklearn and set to stratified 5 fold.  \n",
        "  scores = cross_val_score(base_model, X_train, Y_train, cv=cv)\n",
        "  accuracy.append(scores.mean())  \n",
        "\n",
        "x=np.linspace(1,i,len(accuracy))\n",
        "sns.set(style=\"darkgrid\")\n",
        "fig = plt.figure(figsize=(20,10))\n",
        "ax1 = fig.add_subplot(131)\n",
        "#Set accuracy score to be the average of 5fold\n",
        "\n",
        "ax1=sns.lineplot(x,accuracy)\n",
        "ax1.set_xlabel('Number of trees in forest')\n",
        "ax1.set_ylabel('Accuracy score')\n",
        "fig.suptitle('Accuracy score against hyperparameters')\n",
        "\n",
        "#Plot for maximum number of features\n",
        "accuracy=[]\n",
        "for i in range(1,6+1):\n",
        "  base_model=RandomForestClassifier(max_features = i,random_state=11)\n",
        "  #Use cross validation score from sklearn and set to stratified 5 fold. \n",
        "  scores = cross_val_score(base_model, X_train, Y_train, cv=cv)\n",
        "  accuracy.append(scores.mean()) \n",
        "\n",
        "x=np.linspace(1,i,len(accuracy))\n",
        "sns.set(style=\"darkgrid\")\n",
        "ax2 = fig.add_subplot(132,sharey=ax1)\n",
        "#Set accuracy score to be the average of 5fold\n",
        "ax2=sns.lineplot(x,accuracy)\n",
        "ax2.set_xlabel('maximum number of features')\n",
        "ax2.set_ylabel('Accuracy score')\n",
        "\n",
        "\n",
        "#Plot for maximum level in trees\n",
        "accuracy=[]\n",
        "for i in range(1,20+1):\n",
        "  base_model=RandomForestClassifier(max_depth = i,random_state=11)\n",
        "  #Use cross validation score from sklearn and set to stratified 5 fold. \n",
        "  scores = cross_val_score(base_model, X_train, Y_train, cv=cv)\n",
        "  accuracy.append(scores.mean())  \n",
        "\n",
        "x=np.linspace(1,i,len(accuracy))\n",
        "ax3 = fig.add_subplot(133,sharey=ax1)\n",
        "sns.set(style=\"darkgrid\")\n",
        "#Set accuracy score to be the average of 5fold\n",
        "ax3=sns.lineplot(x,accuracy)\n",
        "ax3.set_xlabel('maximum level in trees')\n",
        "ax3.set_ylabel('Accuracy score')\n",
        "rf_time=time.process_time() - start\n",
        "print('computation time for random forest:',time.process_time() - start)"
      ],
      "execution_count": null,
      "outputs": [
        {
          "output_type": "stream",
          "text": [
            "computation time for random forest: 69.64142855\n"
          ],
          "name": "stdout"
        },
        {
          "output_type": "display_data",
          "data": {
            "image/png": "[encoded data removed]",
            "text/plain": [
              "<Figure size 1440x720 with 3 Axes>"
            ]
          },
          "metadata": {
            "tags": []
          }
        }
      ]
    },
    {
      "cell_type": "markdown",
      "metadata": {
        "id": "SvIoLeRQSKWh"
      },
      "source": [
        "\n",
        "\n",
        "---\n",
        "\n",
        "\n",
        "From the graph, my optimal hyperparameter choice would be Number of trees in forest is 37, maximum number of features is 2 and maximum level in trees is 8. By only varying one of the hyperparameters and keeping other the same, they are approximately where the accuracy score is highest. Note the random state is set as an integer to get reproducible result.\n",
        "\n",
        "\n",
        "---\n",
        "\n",
        "\n"
      ]
    },
    {
      "cell_type": "code",
      "metadata": {
        "id": "CL2LT984c_iG",
        "outputId": "e74610ed-6607-4f08-c0e1-1145a3d19e01",
        "colab": {
          "base_uri": "https://localhost:8080/",
          "height": 34
        }
      },
      "source": [
        "rf_best_model=RandomForestClassifier(max_features = 2, n_estimators=37, max_depth=8,random_state = 11)\n",
        "#Fit the data with all train data\n",
        "rf_best_model.fit(X_train,Y_train)\n",
        "  #Validate the model score using test \n",
        "print('Optimal hyperparameters accuracy score for train data:',rf_best_model.score(X_train,Y_train))"
      ],
      "execution_count": null,
      "outputs": [
        {
          "output_type": "stream",
          "text": [
            "Optimal hyperparameters accuracy score for train data: 0.5189437428243399\n"
          ],
          "name": "stdout"
        }
      ]
    },
    {
      "cell_type": "markdown",
      "metadata": {
        "id": "zVxVq1dxTqD9"
      },
      "source": [
        "\n",
        "\n",
        "---\n",
        "\n",
        "\n",
        "By doing the above test, we see that the accuracy score has reached higher than optimizing one hyperparameters can get.\n",
        "\n",
        "---\n",
        "\n",
        "Number of trees in forest is just the number of example sets generated, although the perfomance gets better drastically by adding more trees at first , the performance will only vary in small range and does not become better much after certain amount.\n",
        " \\\\\n",
        "\n",
        "---\n",
        "\n",
        "\n",
        "Maximum number of feature is the number of parameter that are taken into consideration for the split rule. The more it take on, the model maybe overfitting as in our case. \\\\\n",
        "\n",
        "\n",
        "---\n",
        "\n",
        "\n",
        "Maximum level of feature is the number of spliting levels which stops at some criterion such as the spliting values are purely. The more levels take on, the model maybe overfitting so that the accuracy score decreases. \\\\\n",
        "\n",
        "\n",
        "---\n",
        "\n",
        "\n",
        "From the above graph, we identify the maximum level of feature is the most impacted hyperparameter for our model. Accuracy score varies the most if the level was not choosen carefully. For the number of trees in forest, it is obvious to choose more but it might not worth the computation time cost. The maximum number of feature should also be choosen carefully, but it only varies by 1% which is not as important as other two hyperparameters.\n",
        "\n",
        "\n",
        "---\n",
        "\n",
        "\n"
      ]
    },
    {
      "cell_type": "markdown",
      "metadata": {
        "id": "A_H2fNlW7QBY"
      },
      "source": [
        "# TASK 2  Support Vector Machines "
      ]
    },
    {
      "cell_type": "code",
      "metadata": {
        "id": "r5Xbd4mLTc6B",
        "outputId": "e4e9f1e6-c705-4f12-d3e5-9ffc709a9d97",
        "colab": {
          "base_uri": "https://localhost:8080/",
          "height": 51
        }
      },
      "source": [
        "#Linear SVM's hyperparameter is C, the penalty parameter\n",
        "\n",
        "from sklearn.svm import SVC\n",
        "from sklearn.model_selection import GridSearchCV\n",
        "# Create the parameter grid based on the results of random search \n",
        "C = [0.001, 0.01, 0.1, 1, 10]\n",
        "param_grid = {'C': C}\n",
        "grid_search = GridSearchCV(SVC(kernel='linear'), param_grid, cv=cv)\n",
        "# Search on the train data\n",
        "grid_search.fit(X_train,Y_train)\n",
        "#Get the best parameter\n",
        "print('Optimal Hyperparameter',grid_search.best_params_)\n",
        "#Get the best accuracy \n",
        "print ('Optimal accuracy score',grid_search.best_score_)\n",
        "\n"
      ],
      "execution_count": null,
      "outputs": [
        {
          "output_type": "stream",
          "text": [
            "Optimal Hyperparameter {'C': 0.001}\n",
            "Optimal accuracy score 0.31142365097588975\n"
          ],
          "name": "stdout"
        }
      ]
    },
    {
      "cell_type": "code",
      "metadata": {
        "id": "BObGguer2Cez",
        "outputId": "0aace8eb-cbd8-42fe-c6a3-aced08922541",
        "colab": {
          "base_uri": "https://localhost:8080/",
          "height": 51
        }
      },
      "source": [
        "#Polynomial SVM's hyperparameter is C(the penalty parameter),degree and gamma(tolerance for trying to fit the data)\n",
        "\n",
        "# Create the parameter grid based on the results of random search \n",
        "C = [0.001, 0.01, 0.1, 1, 10]\n",
        "gamma = np.linspace(0.01,0.9,5)\n",
        "degree=range(1,3)\n",
        "\n",
        "param_grid = {'C': C, 'gamma' : gamma,'degree':degree}\n",
        "grid_search = GridSearchCV(SVC(kernel='poly'), param_grid, cv=cv)\n",
        "# Search on the train data\n",
        "grid_search.fit(X_train,Y_train)\n",
        "#Get the best parameter\n",
        "print('Optimal Hyperparameter',grid_search.best_params_)\n",
        "#Get the best accuracy \n",
        "print ('Optimal accuracy score',grid_search.best_score_)\n",
        "\n",
        "\n",
        "\n"
      ],
      "execution_count": null,
      "outputs": [
        {
          "output_type": "stream",
          "text": [
            "Optimal Hyperparameter {'C': 0.1, 'degree': 2, 'gamma': 0.6775}\n",
            "Optimal accuracy score 0.3412743972445465\n"
          ],
          "name": "stdout"
        }
      ]
    },
    {
      "cell_type": "code",
      "metadata": {
        "id": "ihwVyqy09tQL",
        "outputId": "88280fcd-0ed1-421e-ce9b-a17cd538744b",
        "colab": {
          "base_uri": "https://localhost:8080/",
          "height": 68
        }
      },
      "source": [
        "#RBF SVM's hyperparameter is C(the penalty parameter) and gamma(tolerance for trying to fit the data)\n",
        "start = time.process_time()\n",
        "\n",
        "from sklearn.model_selection import GridSearchCV\n",
        "# Create the parameter grid based on the results of random search \n",
        "C = [0.001, 0.01, 0.1, 1, 10]\n",
        "gamma = np.linspace(0.01,0.9,10)\n",
        "param_grid = {'C': C, 'gamma' : gamma}\n",
        "grid_search = GridSearchCV(SVC(kernel='rbf'), param_grid, cv=cv)\n",
        "# Search on the train data\n",
        "grid_search.fit(X_train,Y_train)\n",
        "#Get the best parameter\n",
        "print('Optimal Hyperparameter',grid_search.best_params_)\n",
        "#Get the best accuracy \n",
        "print ('Optimal accuracy score',grid_search.best_score_)\n",
        "SVM_rbf_time=time.process_time() - start\n",
        "print('computation time for SVM rbf:',time.process_time() - start)"
      ],
      "execution_count": null,
      "outputs": [
        {
          "output_type": "stream",
          "text": [
            "Optimal Hyperparameter {'C': 1, 'gamma': 0.9}\n",
            "Optimal accuracy score 0.4084385763490241\n",
            "computation time for SVM rbf: 128.43744266899998\n"
          ],
          "name": "stdout"
        }
      ]
    },
    {
      "cell_type": "code",
      "metadata": {
        "id": "GR60nCSqFGxs",
        "outputId": "c6a2cd38-b948-4da2-b6ab-f4a2b4933f4c",
        "colab": {
          "base_uri": "https://localhost:8080/",
          "height": 34
        }
      },
      "source": [
        "svm_base_model=SVC(kernel='rbf',random_state = 11)\n",
        "#Fit the data with all train data\n",
        "svm_base_model.fit(X_train,Y_train)\n",
        "  #Validate the model score using train data\n",
        "print('System default hyperparameters accuracy score for train data:',svm_base_model.score(X_train,Y_train))"
      ],
      "execution_count": null,
      "outputs": [
        {
          "output_type": "stream",
          "text": [
            "System default hyperparameters accuracy score for train data: 0.45464982778415614\n"
          ],
          "name": "stdout"
        }
      ]
    },
    {
      "cell_type": "code",
      "metadata": {
        "id": "ZzXR9k6iJ1dx",
        "outputId": "d7933d06-dea0-4e14-8641-a6f68e281439",
        "colab": {
          "base_uri": "https://localhost:8080/",
          "height": 34
        }
      },
      "source": [
        "svm_best_model=SVC(kernel='rbf',C=1,gamma=0.9,random_state = 11)\n",
        "#Fit the data with all train data\n",
        "svm_best_model.fit(X_train,Y_train)\n",
        "  #Validate the model score using train data\n",
        "print('Optimal hyperparameters accuracy score for train data:',svm_best_model.score(X_train,Y_train))"
      ],
      "execution_count": null,
      "outputs": [
        {
          "output_type": "stream",
          "text": [
            "Optimal hyperparameters accuracy score for train data: 0.5548220436280138\n"
          ],
          "name": "stdout"
        }
      ]
    },
    {
      "cell_type": "markdown",
      "metadata": {
        "id": "wbRYHORYJRGg"
      },
      "source": [
        "\n",
        "\n",
        "---\n",
        "C is the penalty parameter. It determines the tradeoff between a wide margin and classifier error. Large C means you are allowing little slack and the model will fit tighter to your dat therefore with lower bias and higher variance. Small C means you are allowing a lot of slack and the model will have more error on the training set, but be less sensitive to noise therefore with higher bias and low variance.\n",
        "\n",
        "---\n",
        "$\\gamma$ is the inverse of the standard deviation of the RBF kernel, which is used as similarity measure between two points. SVM is trying to transform the dataset as they are in higher dimension, and gamma determines the boundary of which points are going to be transformed. The larger gamma gets, the more likely to be overfitting. So  small gamma leads to high variance and low bias ,  large gamma leads to higher bias and low variance. We will have to choose the right C and $\\gamma$.\n",
        "\n",
        "\n",
        "---\n",
        "\n",
        "\n",
        "\n",
        "The SVM with best perfomance is using the rbf kernal as we can see it gives highest accuracy score for training set. And by choosing the right hyperparameter we can higher accuracy for using system default hyperparameter sets too.\n"
      ]
    },
    {
      "cell_type": "markdown",
      "metadata": {
        "id": "WK6BhdMEXlAj"
      },
      "source": [
        "# Task 3  Neural Networks"
      ]
    },
    {
      "cell_type": "markdown",
      "metadata": {
        "id": "ogJXjTZ3fYZQ"
      },
      "source": [
        "## Define hyperparameter\n",
        "\n",
        "\n",
        "`input_size`: number of nodes in the input layer of the neural network;\n",
        "\n",
        "`hidden_size`: number of neurons in each hidden layer;\n",
        "\n",
        "`num_classes`: number of classes in rating;\n",
        "\n",
        "`num_epochs`: number of epochs for training;\n",
        "\n",
        "`batch_size`: number of examples the network sees before weights are updated;\n",
        "\n",
        "`learning_rate`: the learning rate $\\alpha$ in backpropagation;\n",
        "\n",
        "`val_size`: 20% of the training data goes into the validation set."
      ]
    },
    {
      "cell_type": "code",
      "metadata": {
        "id": "-GBcpPc5fkiM"
      },
      "source": [
        "input_size = 6   #6 features  \n",
        "hidden_size = 200\n",
        "num_classes = 4   #4 classes(unacceptable,acceptable,good,very good)\n",
        "num_epochs = 120\n",
        "batch_size = 64\n",
        "learning_rate = 0.01"
      ],
      "execution_count": null,
      "outputs": []
    },
    {
      "cell_type": "markdown",
      "metadata": {
        "id": "yuZDx33HZOTm"
      },
      "source": [
        "## Prepare the dataset"
      ]
    },
    {
      "cell_type": "code",
      "metadata": {
        "id": "adKrRe-iZZUw"
      },
      "source": [
        "# prepare data\n",
        "X_train_NN = torch.from_numpy(X_train.values).float()\n",
        "Y_train_NN = torch.from_numpy(np.array(Y_train_N))\n",
        "\n",
        "X_test_NN = torch.from_numpy(X_test.values).float()\n",
        "Y_test_NN = torch.from_numpy(np.array(Y_test_N))\n",
        "\n",
        "# loading data \n",
        "train = torch.utils.data.TensorDataset(X_train_NN, Y_train_NN)\n",
        "train_loader = torch.utils.data.DataLoader(train, batch_size=batch_size)\n",
        "\n",
        "test = torch.utils.data.TensorDataset(X_test_NN, Y_test_NN)\n",
        "test_loader = torch.utils.data.DataLoader(test, batch_size=batch_size)\n"
      ],
      "execution_count": null,
      "outputs": []
    },
    {
      "cell_type": "markdown",
      "metadata": {
        "id": "jICW8EVUgDEN"
      },
      "source": [
        "## Neural network architecture"
      ]
    },
    {
      "cell_type": "code",
      "metadata": {
        "id": "ACGy5fSXgDvp",
        "outputId": "248a61dd-a55e-4a4c-e473-48b840f0ee71",
        "colab": {
          "base_uri": "https://localhost:8080/",
          "height": 559
        }
      },
      "source": [
        "def NNwork(input_size,hidden_size,num_classes,num_epochs,batch_size,learning_rate):\n",
        "\n",
        "  #Set up the Neural Network\n",
        "  class NeuralNet(nn.Module):\n",
        "      def __init__(self, input_size, hidden_size, num_classes):\n",
        "          super(NeuralNet, self).__init__()\n",
        "          self.fc1 = nn.Linear(input_size, hidden_size)\n",
        "          self.fc2 = nn.Linear(hidden_size, hidden_size)\n",
        "          self.fc3 = nn.Linear(hidden_size, num_classes)\n",
        "      \n",
        "      def forward(self, x):\n",
        "          out = F.relu(self.fc1(x))\n",
        "          out = F.relu(self.fc2(out))\n",
        "          out = self.fc3(out)\n",
        "          return out\n",
        "\n",
        "  #Call the NN\n",
        "  net = NeuralNet(input_size, hidden_size, num_classes)\n",
        "\n",
        "  #Loss function and optimiser\n",
        "\n",
        "  criterion = nn.CrossEntropyLoss()\n",
        "\n",
        "  optimiser = torch.optim.SGD(net.parameters(), lr=learning_rate)  \n",
        "  total_step = len(train_loader)\n",
        "  loss_values = []\n",
        "  for epoch in range(num_epochs+1):\n",
        "\n",
        "  ###################\n",
        "  # train the model #\n",
        "  ###################\n",
        "    net.train()\n",
        "    train_loss = 0.0\n",
        "\n",
        "    for i, (descriptor, labels) in enumerate(train_loader, 0):\n",
        "    \n",
        "      labels=labels.squeeze()\n",
        "      \n",
        "        \n",
        "    # forward pass\n",
        "      outputs = net(descriptor)\n",
        "      loss = criterion(outputs, labels)\n",
        "        \n",
        "    # backward and optimise\n",
        "      optimiser.zero_grad()\n",
        "      loss.backward()\n",
        "      optimiser.step()\n",
        "\n",
        "    # update loss\n",
        "      train_loss += loss.item()\n",
        "\n",
        "    # print training statistics\n",
        "     # if (i+1) % (batch_size-1)==0 and epoch % 5 == 0:\n",
        "       # print('Epoch [{}/{}] \\t Iteration [{}/{}] \\t Training Loss: {:.6f}'.format(epoch, num_epochs, i+1, total_step, train_loss / (int(len(X_train_NN))/batch_size)))\n",
        "        \n",
        "    loss_values.append(train_loss/total_step)\n",
        "\n",
        "  \n",
        "#Evaluate the performance \n",
        "  net.eval()\n",
        "\n",
        "  correct = 0\n",
        "  total = 0\n",
        "  for descriptor, labels in test_loader:\n",
        "    labels = labels.squeeze()\n",
        "    outputs = net(descriptor)\n",
        "    _, predicted = torch.max(outputs.data, 1)\n",
        "    total += labels.size(0)\n",
        "    correct += (predicted == labels).sum().item()\n",
        "  print('Accuracy on test data: {} %'.format(100 * correct / total))\n",
        "\n",
        "  return loss_values\n",
        "\n",
        "\n",
        "# print the loss value\n",
        "\n",
        "\n",
        "loss=NNwork(input_size,hidden_size,num_classes,num_epochs,batch_size,learning_rate)\n",
        "\n",
        "plt.style.use('ggplot')\n",
        "plt.figure(figsize=(12,8))\n",
        "plt.xlim(-1, num_epochs+1)\n",
        "plt.ylabel('Training Loss', fontsize=20)\n",
        "plt.xlabel('Epoch', fontsize=20)\n",
        "plt.plot(loss)\n",
        "plt.title('Original Parameters')\n",
        "\n",
        "\n"
      ],
      "execution_count": null,
      "outputs": [
        {
          "output_type": "stream",
          "text": [
            "Accuracy on test data: 42.84274193548387 %\n"
          ],
          "name": "stdout"
        },
        {
          "output_type": "execute_result",
          "data": {
            "text/plain": [
              "Text(0.5, 1.0, 'Original Parameters')"
            ]
          },
          "metadata": {
            "tags": []
          },
          "execution_count": 32
        },
        {
          "output_type": "display_data",
          "data": {
            "image/png": "[encoded data removed]",
            "text/plain": [
              "<Figure size 864x576 with 1 Axes>"
            ]
          },
          "metadata": {
            "tags": []
          }
        }
      ]
    },
    {
      "cell_type": "markdown",
      "metadata": {
        "id": "2tF4XFYonPxh"
      },
      "source": [
        "## Task 3.1\n",
        "\n",
        "Show and document how changing the learning rate to: (i) 0.0005 and (ii) 0.95 leads to poor convergence. Explain and document the reasons for your observations based on the mathematics of the algorithm"
      ]
    },
    {
      "cell_type": "code",
      "metadata": {
        "id": "lgKJLU-Sni_3",
        "outputId": "7dab7659-dbed-4f2b-d84e-f8f1c67063cc",
        "colab": {
          "base_uri": "https://localhost:8080/",
          "height": 559
        }
      },
      "source": [
        "#Update the learning rate \n",
        "learning_rate=0.0005\n",
        "loss=NNwork(input_size,hidden_size,num_classes,num_epochs,batch_size,learning_rate)\n",
        "\n",
        "\n",
        "plt.style.use('ggplot')\n",
        "plt.figure(figsize=(12,8))\n",
        "plt.xlim(-1, num_epochs+1)\n",
        "plt.ylabel('Training Loss', fontsize=20)\n",
        "plt.xlabel('Epoch', fontsize=20)\n",
        "plt.plot(loss)\n",
        "plt.title('Learning rate = {}'.format(learning_rate))"
      ],
      "execution_count": null,
      "outputs": [
        {
          "output_type": "stream",
          "text": [
            "Accuracy on test data: 43.24596774193548 %\n"
          ],
          "name": "stdout"
        },
        {
          "output_type": "execute_result",
          "data": {
            "text/plain": [
              "Text(0.5, 1.0, 'Learning rate = 0.0005')"
            ]
          },
          "metadata": {
            "tags": []
          },
          "execution_count": 184
        },
        {
          "output_type": "display_data",
          "data": {
            "image/png": "[encoded data removed]",
            "text/plain": [
              "<Figure size 864x576 with 1 Axes>"
            ]
          },
          "metadata": {
            "tags": []
          }
        }
      ]
    },
    {
      "cell_type": "code",
      "metadata": {
        "id": "ogwsga6GneCU",
        "outputId": "e6b8d7cd-03db-4881-86b7-fd8835392a0c",
        "colab": {
          "base_uri": "https://localhost:8080/",
          "height": 559
        }
      },
      "source": [
        "#Update the learning rate \n",
        "learning_rate=0.95\n",
        "\n",
        "\n",
        "loss=NNwork(input_size,hidden_size,num_classes,num_epochs,batch_size,learning_rate)\n",
        "\n",
        "\n",
        "\n",
        "\n",
        "\n",
        "plt.style.use('ggplot')\n",
        "plt.figure(figsize=(12,8))\n",
        "plt.xlim(-1, num_epochs+1)\n",
        "plt.ylabel('Training Loss', fontsize=20)\n",
        "plt.xlabel('Epoch', fontsize=20)\n",
        "plt.plot(loss)\n",
        "plt.title('Learning rate = {}'.format(learning_rate))"
      ],
      "execution_count": null,
      "outputs": [
        {
          "output_type": "stream",
          "text": [
            "Accuracy on test data: 19.052419354838708 %\n"
          ],
          "name": "stdout"
        },
        {
          "output_type": "execute_result",
          "data": {
            "text/plain": [
              "Text(0.5, 1.0, 'Learning rate = 0.95')"
            ]
          },
          "metadata": {
            "tags": []
          },
          "execution_count": 185
        },
        {
          "output_type": "display_data",
          "data": {
            "image/png": "[encoded data removed]",
            "text/plain": [
              "<Figure size 864x576 with 1 Axes>"
            ]
          },
          "metadata": {
            "tags": []
          }
        }
      ]
    },
    {
      "cell_type": "markdown",
      "metadata": {
        "id": "81JbYWfPqXRU"
      },
      "source": [
        "\n",
        "\n",
        "---\n",
        "\n",
        "\n",
        "The learning rate is a hyperparameter that controls how much to change the model in response to the estimated error each time the model weights are updated. Setting it too large might reduce the training loss by a lot but it will cause the final result diverge or exceed the optimal value. We can also observe peak unstable value since the step taken is too big. Changing to a learning rate samll will help to get better convergence but too small may cause the descent rate to be too slow and fail to converge to optimal within fixed epochs. As the learning rate increase from 0.0005 to 0.95, we can see at learning rate=0.0005 the value is converging slowly but towards the optimal. At learning rate=0.95, although the training loss is small,the plot just goes way off, it is not going to converge to the optimal value which is poor convergence.\n",
        "\n",
        "\n",
        "---\n",
        "\n"
      ]
    },
    {
      "cell_type": "markdown",
      "metadata": {
        "id": "jXPO9ktNsAza"
      },
      "source": [
        "## Task 3.2\n",
        "\n",
        "Show and document how changing the batch size to: (i) 2 and (ii) 256 leads to poor convergence and\n",
        "performance. Explain and document the reasons"
      ]
    },
    {
      "cell_type": "code",
      "metadata": {
        "id": "0eW8tIC6sHGs",
        "outputId": "fba68b93-fc01-4421-d74c-a0530eff2b09",
        "colab": {
          "base_uri": "https://localhost:8080/",
          "height": 559
        }
      },
      "source": [
        "#Update the batch size\n",
        "\n",
        "learning_rate=0.01\n",
        "batch_size=2;\n",
        "\n",
        "#Reload\n",
        "train_loader = torch.utils.data.DataLoader(train, batch_size=batch_size)\n",
        "test_loader = torch.utils.data.DataLoader(test, batch_size=batch_size)\n",
        "\n",
        "\n",
        "\n",
        "loss=NNwork(input_size,hidden_size,num_classes,num_epochs,batch_size,learning_rate)\n",
        "\n",
        "\n",
        "plt.style.use('ggplot')\n",
        "plt.figure(figsize=(12,8))\n",
        "plt.xlim(-1, num_epochs+1)\n",
        "plt.ylabel('Training Loss', fontsize=20)\n",
        "plt.xlabel('Epoch', fontsize=20)\n",
        "plt.plot(loss)\n",
        "plt.title('Batch size = {}'.format(batch_size))"
      ],
      "execution_count": null,
      "outputs": [
        {
          "output_type": "stream",
          "text": [
            "Accuracy on test data: 22.278225806451612 %\n"
          ],
          "name": "stdout"
        },
        {
          "output_type": "execute_result",
          "data": {
            "text/plain": [
              "Text(0.5, 1.0, 'Batch size = 2')"
            ]
          },
          "metadata": {
            "tags": []
          },
          "execution_count": 186
        },
        {
          "output_type": "display_data",
          "data": {
            "image/png": "[encoded data removed]",
            "text/plain": [
              "<Figure size 864x576 with 1 Axes>"
            ]
          },
          "metadata": {
            "tags": []
          }
        }
      ]
    },
    {
      "cell_type": "code",
      "metadata": {
        "id": "LxMQKwV4PUwV",
        "outputId": "bfd05398-517e-42bf-932c-77136422af78",
        "colab": {
          "base_uri": "https://localhost:8080/",
          "height": 559
        }
      },
      "source": [
        "#Update the batch size\n",
        "\n",
        "learning_rate=0.01\n",
        "batch_size=256;\n",
        "\n",
        "\n",
        "#Reload\n",
        "train_loader = torch.utils.data.DataLoader(train, batch_size=batch_size)\n",
        "test_loader = torch.utils.data.DataLoader(test, batch_size=batch_size)\n",
        "\n",
        "\n",
        "loss=NNwork(input_size,hidden_size,num_classes,num_epochs,batch_size,learning_rate)\n",
        "\n",
        "\n",
        "plt.style.use('ggplot')\n",
        "plt.figure(figsize=(12,8))\n",
        "plt.xlim(-1, num_epochs+1)\n",
        "plt.ylabel('Training Loss', fontsize=20)\n",
        "plt.xlabel('Epoch', fontsize=20)\n",
        "plt.plot(loss)\n",
        "plt.title('Batch size = {}'.format(batch_size))\n"
      ],
      "execution_count": null,
      "outputs": [
        {
          "output_type": "stream",
          "text": [
            "Accuracy on test data: 41.935483870967744 %\n"
          ],
          "name": "stdout"
        },
        {
          "output_type": "execute_result",
          "data": {
            "text/plain": [
              "Text(0.5, 1.0, 'Batch size = 256')"
            ]
          },
          "metadata": {
            "tags": []
          },
          "execution_count": 187
        },
        {
          "output_type": "display_data",
          "data": {
            "image/png": "[encoded data removed]",
            "text/plain": [
              "<Figure size 864x576 with 1 Axes>"
            ]
          },
          "metadata": {
            "tags": []
          }
        }
      ]
    },
    {
      "cell_type": "markdown",
      "metadata": {
        "id": "M-PpN5-QtSDY"
      },
      "source": [
        "\n",
        "\n",
        "---\n",
        "\n",
        "The choice of batch determines the direction of descent. Smaller batch sizes can lead to noisy estimate of error gradient search. For batch size = 2,training loss is low since it fit the training data set very well Which is likely to overfit the model and get low accuracy testing the test dataset. Since we only used approximatly 4000 traing data set, for batch size = 256 seem still to be a good fit, but the training loss is larger than batch size=64 indicates slow convergence. If we used larger batch size, the estimate experience low noise so the curve is smooth, but we can only be trained less time, the training loss will be larger and the model is likely to underfit, it is not converging fast enough to the optimal which is poor convergence. By choosing right batch-size, memory utilization is improved, the number of iterations required to run an epoch is reduced, and the processing speed for the same amount of data is increased.\n",
        "\n",
        "\n",
        "---\n",
        "\n",
        "\n",
        "\n"
      ]
    },
    {
      "cell_type": "markdown",
      "metadata": {
        "id": "OnUqaAJburP4"
      },
      "source": [
        "## Task 3.3\n",
        "\n",
        " In Pytorch, implement dropout regularisation to the second layer of the NN, and tune the dropout rate to\n",
        "optimise the validation of the NN using 5-fold cross-validation."
      ]
    },
    {
      "cell_type": "markdown",
      "metadata": {
        "id": "qo3GCV4t6iGP"
      },
      "source": [
        "By using the normal stratified 5-fold, we split the train data to train set and test set, and use them to train,test the model. We keep correct and total = 0 outside the split loop to get the accuracy score for 5 split in total"
      ]
    },
    {
      "cell_type": "code",
      "metadata": {
        "id": "mph1H7k_uxKn",
        "outputId": "44a32215-5dc0-471e-e78f-da09a577b751",
        "colab": {
          "base_uri": "https://localhost:8080/",
          "height": 119
        }
      },
      "source": [
        "\n",
        "from sklearn.model_selection import StratifiedKFold\n",
        "batch_size=10\n",
        "train_loader = torch.utils.data.DataLoader(train, batch_size=batch_size)\n",
        "test_loader = torch.utils.data.DataLoader(test, batch_size=batch_size)\n",
        "cv = StratifiedKFold(n_splits=5, random_state=11)\n",
        "for dropout_rate in [0.1,0.2,0.5,0.6,0.7,0.8]:\n",
        "  #Rebuild the model\n",
        "  class NeuralNet(nn.Module):\n",
        "      def __init__(self, input_size, hidden_size, num_classes):\n",
        "          super(NeuralNet, self).__init__()\n",
        "          self.fc1 = nn.Linear(input_size, hidden_size)\n",
        "          self.fc2 = nn.Linear(hidden_size, hidden_size)\n",
        "          self.fc3 = nn.Linear(hidden_size, num_classes)\n",
        "      \n",
        "      def forward(self, x):\n",
        "          out = F.relu(self.fc1(x))\n",
        "          out = F.relu(self.fc2(out))\n",
        "          # Set up agian in each iteration since dropout rate changes\n",
        "          out = F.dropout(out,p=dropout_rate)\n",
        "          out = self.fc3(out)\n",
        "          \n",
        "          return out\n",
        "  net_sp = NeuralNet(input_size, hidden_size, num_classes)\n",
        "\n",
        "    \n",
        "  correct = 0\n",
        "  total = 0\n",
        "  for (train_index,test_index) in cv.split(X_train,Y_train):\n",
        "    X_train_sp, X_test_sp = X_train.loc[train_index], X_train.loc[test_index]\n",
        "    Y_train_sp, Y_test_sp = Y_train.loc[train_index], Y_train.loc[test_index]\n",
        "\n",
        "\n",
        "    # prepare data\n",
        "    X_train_NN_sp = torch.from_numpy(X_train_sp.values).float()\n",
        "    Y_train_NN_sp = torch.from_numpy(np.array(Y_train_sp))\n",
        "    X_test_NN_sp = torch.from_numpy(X_test_sp.values).float()\n",
        "    Y_test_NN_sp = torch.from_numpy(np.array(Y_test_sp))\n",
        "\n",
        "  # loading data \n",
        "    train_sp = torch.utils.data.TensorDataset(X_train_NN_sp, Y_train_NN_sp)\n",
        "    train_loader_sp = torch.utils.data.DataLoader(train_sp, batch_size=batch_size)\n",
        "\n",
        "    test_sp = torch.utils.data.TensorDataset(X_test_NN_sp, Y_test_NN_sp) \n",
        "    test_loader_sp = torch.utils.data.DataLoader(test_sp, batch_size=batch_size)\n",
        "\n",
        "    total_step = len(train_loader)\n",
        "    loss_values = []\n",
        "\n",
        "    for epoch in range(num_epochs+1):\n",
        "\n",
        "    ###################\n",
        "    # train the model #\n",
        "    ###################\n",
        "      net_sp.train()\n",
        "      train_loss = 0.0\n",
        "    \n",
        "      for i, (descriptor, labels) in enumerate(train_loader_sp, 0):\n",
        "      \n",
        "        labels=labels.squeeze()\n",
        "        \n",
        "        criterion = nn.CrossEntropyLoss()\n",
        "        optimiser = torch.optim.SGD(net_sp.parameters(), lr=learning_rate)  \n",
        "          \n",
        "      # forward pass\n",
        "        outputs = net_sp(descriptor)\n",
        "        loss = criterion(outputs, labels)\n",
        "          \n",
        "      # backward and optimise\n",
        "        optimiser.zero_grad()\n",
        "        loss.backward()\n",
        "        optimiser.step()\n",
        "\n",
        "      # update loss\n",
        "        train_loss += loss.item()\n",
        "\n",
        "      # print training statistics\n",
        "        if (i+1) % (batch_size) == 0:\n",
        "          #print('Epoch [{}/{}] \\t Iteration [{}/{}] \\t Training Loss: {:.6f}'.format(epoch, num_epochs, i+1, total_step, train_loss / 100))\n",
        "          train_loss = 0.0\n",
        "    \n",
        "      loss_values.append(train_loss / (batch_size))\n",
        "  \n",
        "    #Evaluate the performance \n",
        "    net_sp.eval()\n",
        "    for descriptor, labels in test_loader_sp:\n",
        "      labels = labels.squeeze()\n",
        "      outputs = net_sp(descriptor)\n",
        "      _, predicted = torch.max(outputs.data, 1)\n",
        "      total += labels.size(0)\n",
        "      correct += (predicted == labels).sum().item()\n",
        "  print('Accuracy on test data with dropout rate= {} : {} %'.format(dropout_rate,100 * correct / total))\n",
        "\n",
        "\n"
      ],
      "execution_count": null,
      "outputs": [
        {
          "output_type": "stream",
          "text": [
            "Accuracy on test data with dropout rate= 0.1 : 34.15614236509759 %\n",
            "Accuracy on test data with dropout rate= 0.2 : 34.5292766934558 %\n",
            "Accuracy on test data with dropout rate= 0.5 : 34.959816303099885 %\n",
            "Accuracy on test data with dropout rate= 0.6 : 35.7060849598163 %\n",
            "Accuracy on test data with dropout rate= 0.7 : 35.218140068886335 %\n",
            "Accuracy on test data with dropout rate= 0.8 : 35.79219288174512 %\n"
          ],
          "name": "stdout"
        }
      ]
    },
    {
      "cell_type": "markdown",
      "metadata": {
        "id": "iwuZTWuxIB-D"
      },
      "source": [
        "\n",
        "\n",
        "---\n",
        "\n",
        "\n",
        "In Neural network models, if the model has too many parameters or too few training samples, the trained model is prone to overfitting. Over-fitting problems are often encountered when training neural networks with lots of layer. \n",
        "Dropout is that we let the activation value of a certain neuron with a certain probability p during the forward conduction, and stop it from working. In our example, the drop out rate does not improve training loss by that much since our model does not face overfitting problem, with smaller batch size the performance increased due to the nature of samll batch size can lead to overfitting problem. Rhe best dropout rate would be 0.8 which result highest performance.\n",
        "\n",
        "\n",
        "\n",
        "---\n",
        "\n"
      ]
    },
    {
      "cell_type": "markdown",
      "metadata": {
        "id": "lY2mLIOigUVP"
      },
      "source": [
        "# Task 4 Discussion"
      ]
    },
    {
      "cell_type": "markdown",
      "metadata": {
        "id": "8ZPl1Cu8o0zr"
      },
      "source": [
        "## Task 4.1 \n",
        "Compare the performance of the three classifiers you have obtained in Tasks 1, 2 and 3 by applying\n",
        "them to the test data set. You should report the accuracy, recall, precision, and F1 score and any other\n",
        "relevant score derived from the confusion matrix. Examine your results in comparison to the performance obtained for the training set. Discuss any other measures or computations that could support your\n",
        "results.\n"
      ]
    },
    {
      "cell_type": "markdown",
      "metadata": {
        "id": "eO_pRGvwC6js"
      },
      "source": [
        "## Random forest"
      ]
    },
    {
      "cell_type": "code",
      "metadata": {
        "id": "wPXdoGyjgWrX",
        "outputId": "7b55aefa-7bec-4c46-a1f5-aa01f77ac16c",
        "colab": {
          "base_uri": "https://localhost:8080/",
          "height": 488
        }
      },
      "source": [
        "from sklearn.metrics import confusion_matrix as confusion_matrix\n",
        "import seaborn as sns\n",
        "import matplotlib.pyplot as plt\n",
        "from sklearn.metrics import precision_score\n",
        "from sklearn.metrics import recall_score\n",
        "from sklearn.metrics import f1_score\n",
        "from sklearn.metrics import fbeta_score\n",
        "from sklearn.metrics import accuracy_score\n",
        "\n",
        "#Prediction on test data\n",
        "\n",
        "Y_test_rf_predic=rf_best_model.predict(X_test)\n",
        "\n",
        "\n",
        "\n",
        "print('Confusion matrix on test data for random forest','\\n',confusion_matrix(Y_test_rf_predic,Y_test))\n",
        "print('accuracy score on test data for random forest',\"{:.0%}\".format(accuracy_score(Y_test,Y_test_rf_predic)))\n",
        "print('Precision score on test data for random forest',precision_score(Y_test,Y_test_rf_predic,average='macro'))\n",
        "print('Recall score on test data for random forest',recall_score(Y_test,Y_test_rf_predic,average='macro'))\n",
        "print('f1 score on test data for random forest',f1_score(Y_test,Y_test_rf_predic,average='macro'))\n",
        "print('fbeta score on test data for random forest',fbeta_score(Y_test,Y_test_rf_predic,average='macro',beta=0.5))\n",
        "\n",
        "Y_train_rf_predic=rf_best_model.predict(X_train)\n",
        "\n",
        "\n",
        "print('accuracy score on train data for random forest',\"{:.0%}\".format(accuracy_score(Y_train,Y_train_rf_predic)))\n",
        "\n",
        "\n",
        "\n",
        "\n",
        "ax=plt.figure()\n",
        "ax=sns.heatmap(confusion_matrix(Y_test_rf_predic,Y_test), annot=True);\n",
        "\n",
        "# labels, title and ticks\n",
        "\n",
        "ax.set_xlabel('Predicted labels');ax.set_ylabel('True labels'); \n",
        "ax.set_title('Confusion Matrix for random forest'); \n",
        "ax.xaxis.set_ticklabels(['acc','good','unacc','vgood']); \n",
        "ax.yaxis.set_ticklabels(['acc','good','unacc','vgood']);\n",
        "\n",
        "\n"
      ],
      "execution_count": null,
      "outputs": [
        {
          "output_type": "stream",
          "text": [
            "Confusion matrix on test data for random forest \n",
            " [[ 85  59  66  48]\n",
            " [ 53  90  50  48]\n",
            " [ 19  15 259   8]\n",
            " [ 31  40  37  84]]\n",
            "accuracy score on test data for random forest 52%\n",
            "Precision score on test data for random forest 0.5002166160056611\n",
            "Recall score on test data for random forest 0.49218835437500763\n",
            "f1 score on test data for random forest 0.4885683195869678\n",
            "fbeta score on test data for random forest 0.4935816396030282\n",
            "accuracy score on train data for random forest 52%\n"
          ],
          "name": "stdout"
        },
        {
          "output_type": "display_data",
          "data": {
            "image/png": "[encoded data removed]",
            "text/plain": [
              "<Figure size 432x288 with 2 Axes>"
            ]
          },
          "metadata": {
            "tags": []
          }
        }
      ]
    },
    {
      "cell_type": "markdown",
      "metadata": {
        "id": "BdhVeIJXDLEG"
      },
      "source": [
        "## Support Vector Machine"
      ]
    },
    {
      "cell_type": "code",
      "metadata": {
        "id": "9AF0dOPn97bc",
        "outputId": "0bd68f1c-ff75-4cb0-919a-18d6fe4ae5c9",
        "colab": {
          "base_uri": "https://localhost:8080/",
          "height": 489
        }
      },
      "source": [
        "#Prediction on test data\n",
        "Y_test_svm_predic=svm_best_model.predict(X_test)\n",
        "\n",
        "print('Confusion matrix on test data for svm','\\n',confusion_matrix(Y_test_svm_predic,Y_test))\n",
        "print('accuracy score on test data for SVM',\"{:.0%}\".format(accuracy_score(Y_test,Y_test_svm_predic)))\n",
        "print('Precision score on test data for SVM',precision_score(Y_test,Y_test_svm_predic,average='macro'))\n",
        "print('Recall score on test data for SVM',recall_score(Y_test,Y_test_svm_predic,average='macro'))\n",
        "print('f1 score on test data for SVM',f1_score(Y_test,Y_test_svm_predic,average='macro'))\n",
        "print('fbeta score on test data for SVM',fbeta_score(Y_test,Y_test_svm_predic,average='macro',beta=0.5))\n",
        "\n",
        "#Prediction on train data\n",
        "Y_train_svm_predic=svm_best_model.predict(X_train)\n",
        "\n",
        "\n",
        "print('accuracy score on train data for SVM',\"{:.0%}\".format(accuracy_score(Y_train,Y_train_svm_predic)))\n",
        "\n",
        "\n",
        "ax=plt.figure()\n",
        "ax=sns.heatmap(confusion_matrix(Y_test_svm_predic,Y_test), annot=True);\n",
        "\n",
        "ax.set_xlabel('Predicted labels');ax.set_ylabel('True labels'); \n",
        "ax.set_title('Confusion Matrix for SVM'); \n",
        "ax.xaxis.set_ticklabels(['acc','good','unacc','vgood']); \n",
        "ax.yaxis.set_ticklabels(['acc','good','unacc','vgood']);\n",
        "\n"
      ],
      "execution_count": null,
      "outputs": [
        {
          "output_type": "stream",
          "text": [
            "Confusion matrix on test data for svm \n",
            " [[ 74  65  70  54]\n",
            " [ 49  73  54  46]\n",
            " [ 23  15 247   7]\n",
            " [ 42  51  41  81]]\n",
            "accuracy score on test data for SVM 48%\n",
            "Precision score on test data for SVM 0.4582080617817551\n",
            "Recall score on test data for SVM 0.4454564463670203\n",
            "f1 score on test data for SVM 0.4436430767611821\n",
            "fbeta score on test data for SVM 0.45018303308073016\n",
            "accuracy score on train data for SVM 55%\n"
          ],
          "name": "stdout"
        },
        {
          "output_type": "display_data",
          "data": {
            "image/png": "[encoded data removed]",
            "text/plain": [
              "<Figure size 432x288 with 2 Axes>"
            ]
          },
          "metadata": {
            "tags": []
          }
        }
      ]
    },
    {
      "cell_type": "markdown",
      "metadata": {
        "id": "TSMAbsIpFTvD"
      },
      "source": [
        "## Neural Net Work\n",
        "\n",
        "To get the confusion matrix for the Neural Net Work, I saved the rating prediction and true value in each test and train loader, then concate them to an array to compute the scores derived from confusion matrix."
      ]
    },
    {
      "cell_type": "code",
      "metadata": {
        "id": "PaAkIikTGkyn"
      },
      "source": [
        "input_size = 6   #6 features  \n",
        "hidden_size = 200\n",
        "num_classes = 4   #4 classes(unacceptable,acceptable,good,very good)\n",
        "num_epochs = 120\n",
        "batch_size = 64\n",
        "learning_rate = 0.01\n",
        "\n",
        "# prepare data\n",
        "X_train_NN = torch.from_numpy(X_train.values).float()\n",
        "Y_train_NN = torch.from_numpy(np.array(Y_train_N))\n",
        "\n",
        "X_test_NN = torch.from_numpy(X_test.values).float()\n",
        "Y_test_NN = torch.from_numpy(np.array(Y_test_N))\n",
        "\n",
        "# loading data \n",
        "train = torch.utils.data.TensorDataset(X_train_NN, Y_train_NN)\n",
        "train_loader = torch.utils.data.DataLoader(train, batch_size=batch_size)\n",
        "\n",
        "test = torch.utils.data.TensorDataset(X_test_NN, Y_test_NN)\n",
        "test_loader = torch.utils.data.DataLoader(test, batch_size=batch_size)\n"
      ],
      "execution_count": null,
      "outputs": []
    },
    {
      "cell_type": "code",
      "metadata": {
        "id": "VyTlghPGFR95"
      },
      "source": [
        "def NNwork(input_size,hidden_size,num_classes,num_epochs,batch_size,learning_rate):\n",
        "  Y_true=[]\n",
        "  Y_predic=[]\n",
        "  Y_true_train=[]\n",
        "  Y_predic_train=[]\n",
        "  #Set up the Neural Network\n",
        "  class NeuralNet(nn.Module):\n",
        "      def __init__(self, input_size, hidden_size, num_classes):\n",
        "          super(NeuralNet, self).__init__()\n",
        "          self.fc1 = nn.Linear(input_size, hidden_size)\n",
        "          self.fc2 = nn.Linear(hidden_size, hidden_size)\n",
        "          self.fc3 = nn.Linear(hidden_size, num_classes)\n",
        "      \n",
        "      def forward(self, x):\n",
        "          out = F.relu(self.fc1(x))\n",
        "          out = F.relu(self.fc2(out))\n",
        "          out = self.fc3(out)\n",
        "          return out\n",
        "\n",
        "  #Call the NN\n",
        "  net = NeuralNet(input_size, hidden_size, num_classes)\n",
        "\n",
        "  #Loss function and optimiser\n",
        "\n",
        "  criterion = nn.CrossEntropyLoss()\n",
        "\n",
        "  optimiser = torch.optim.SGD(net.parameters(), lr=learning_rate)  \n",
        "  total_step = len(train_loader)\n",
        "  loss_values = []\n",
        "  for epoch in range(num_epochs+1):\n",
        "\n",
        "  ###################\n",
        "  # train the model #\n",
        "  ###################\n",
        "    net.train()\n",
        "    train_loss = 0.0\n",
        "\n",
        "    for i, (descriptor, labels) in enumerate(train_loader, 0):\n",
        "    \n",
        "      labels=labels.squeeze()\n",
        "      \n",
        "        \n",
        "    # forward pass\n",
        "      outputs = net(descriptor)\n",
        "      loss = criterion(outputs, labels)\n",
        "        \n",
        "    # backward and optimise\n",
        "      optimiser.zero_grad()\n",
        "      loss.backward()\n",
        "      optimiser.step()\n",
        "\n",
        "    # update loss\n",
        "      train_loss += loss.item()\n",
        "        \n",
        "    loss_values.append(train_loss/total_step)\n",
        "\n",
        "  \n",
        "#Evaluate the performance \n",
        "  net.eval()\n",
        "\n",
        "  correct = 0\n",
        "  total = 0\n",
        "  for descriptor, labels in test_loader:\n",
        "    labels = labels.squeeze()\n",
        "    outputs = net(descriptor)\n",
        "    _, predicted = torch.max(outputs.data, 1)\n",
        "    total += labels.size(0)\n",
        "    correct += (predicted == labels).sum().item()\n",
        "    #Save the prediction and true rating value\n",
        "    Y_true.append(labels.numpy())\n",
        "    Y_predic.append(predicted.numpy())\n",
        "\n",
        "  correct = 0\n",
        "  total = 0\n",
        "  for descriptor, labels in train_loader:\n",
        "    labels = labels.squeeze()\n",
        "    outputs = net(descriptor)\n",
        "    _, predicted = torch.max(outputs.data, 1)\n",
        "    total += labels.size(0)\n",
        "    correct += (predicted == labels).sum().item()\n",
        "    #Save the prediction and true rating value\n",
        "    Y_true_train.append(labels.numpy())\n",
        "    Y_predic_train.append(predicted.numpy())\n",
        "\n",
        "  return loss_values,Y_true,Y_predic,Y_true_train,Y_predic_train"
      ],
      "execution_count": null,
      "outputs": []
    },
    {
      "cell_type": "code",
      "metadata": {
        "id": "l5lIFCMqGWhr",
        "outputId": "49e1d4b3-82a9-4574-9bd1-0c72a35579d3",
        "colab": {
          "base_uri": "https://localhost:8080/",
          "height": 499
        }
      },
      "source": [
        "#Get the prediction rating value during evaluation and correspoind true rating value\n",
        "start = time.process_time()\n",
        "[loss,Y_true_NN,Y_predic_NN,Y_true_NN_train,Y_predic_NN_train]=NNwork(input_size,hidden_size,num_classes,num_epochs,batch_size,learning_rate)  \n",
        "NN_time=time.process_time() - start\n",
        "print('computation time for deep:',time.process_time() - start)\n",
        "\n",
        "#Concate the data set\n",
        "Y_true_NN=np.concatenate(Y_true_NN).ravel()\n",
        "Y_predic_NN=np.concatenate(Y_predic_NN).ravel()\n",
        "Y_true_NN_train=np.concatenate(Y_true_NN_train).ravel()\n",
        "Y_predic_NN_train=np.concatenate(Y_predic_NN_train).ravel()\n",
        "#Prediction on test data\n",
        "\n",
        "\n",
        "\n",
        "print('Confusion matrix on test data for Neural Network','\\n',confusion_matrix(Y_predic_NN,Y_true_NN))\n",
        "print('accuracy score on test data for Neural Network',\"{:.0%}\".format(accuracy_score(Y_true_NN,Y_predic_NN)))\n",
        "print('Precision score on test data for Neural Network',precision_score(Y_true_NN,Y_predic_NN,average='macro'))\n",
        "print('Recall score on test data for Neural Network',recall_score(Y_true_NN,Y_predic_NN,average='macro'))\n",
        "print('f1 score on test data for Neural Network',f1_score(Y_true_NN,Y_predic_NN,average='macro'))\n",
        "print('fbeta score on test data for Neural Network',fbeta_score(Y_true_NN,Y_predic_NN,average='macro',beta=0.5))\n",
        "\n",
        "\n",
        "print('accuracy score on train data for Neural Network',\"{:.0%}\".format(accuracy_score(Y_true_NN_train,Y_predic_NN_train)))\n",
        "\n",
        "\n",
        "\n",
        "\n",
        "ax=plt.figure()\n",
        "ax=sns.heatmap(confusion_matrix(Y_predic_NN,Y_true_NN), annot=True);\n",
        "\n",
        "# labels, title and ticks\n",
        "\n",
        "ax.set_xlabel('Predicted labels');ax.set_ylabel('True labels'); \n",
        "ax.set_title('Confusion Matrix for Neural Network'); \n",
        "ax.xaxis.set_ticklabels(['acc','good','unacc','vgood']); \n",
        "ax.yaxis.set_ticklabels(['acc','good','unacc','vgood']);\n"
      ],
      "execution_count": null,
      "outputs": [
        {
          "output_type": "stream",
          "text": [
            "computation time for deep: 9.849770546999999\n",
            "Confusion matrix on test data for Neural Network \n",
            " [[  7   3   5   2]\n",
            " [ 33  63  30  32]\n",
            " [ 17  11 217   7]\n",
            " [131 127 160 147]]\n",
            "accuracy score on test data for Neural Network 44%\n",
            "Precision score on test data for Neural Network 0.4829467463397741\n",
            "Recall score on test data for Neural Network 0.41366787367704777\n",
            "f1 score on test data for Neural Network 0.36510292152816204\n",
            "fbeta score on test data for Neural Network 0.39446065336366876\n",
            "accuracy score on train data for Neural Network 37%\n"
          ],
          "name": "stdout"
        },
        {
          "output_type": "display_data",
          "data": {
            "image/png": "[encoded data removed]",
            "text/plain": [
              "<Figure size 432x288 with 2 Axes>"
            ]
          },
          "metadata": {
            "tags": []
          }
        }
      ]
    },
    {
      "cell_type": "markdown",
      "metadata": {
        "id": "EKUw2TYlLgjc"
      },
      "source": [
        "\n",
        "\n",
        "---\n",
        "\n",
        "\n",
        "Random forest tend to perform better on testing set rather than the training dataset. SVM and Neural Net work perform better on training set, since we have balanced the data set, the accuracy score can be used to measure. The F-beta score is the weighted harmonic mean of precision and recall,"
      ]
    },
    {
      "cell_type": "markdown",
      "metadata": {
        "id": "McOLdL2gZnUs"
      },
      "source": [
        "#4.2\n",
        "\n",
        "Discuss the suitability of each of the three methods for our task. Comment on their generalisability to\n",
        "the test data, computational cost, and the appropriateness given the dimensionality of the data and any\n",
        "other insights based on your study of the descriptors of the data set. You should base your evaluations on\n",
        "evidence and computations. Which model would you recommend to your manager?"
      ]
    },
    {
      "cell_type": "code",
      "metadata": {
        "id": "jBU9hGyTj4bE",
        "outputId": "7e333d36-3ebd-474d-a41f-76f146db0c65",
        "colab": {
          "base_uri": "https://localhost:8080/",
          "height": 153
        }
      },
      "source": [
        "print('accuracy score on test data for random forest',\"{:.0%}\".format(accuracy_score(Y_test,Y_test_rf_predic)))\n",
        "print('accuracy score on test data for SVM',\"{:.0%}\".format(accuracy_score(Y_test,Y_test_svm_predic)))\n",
        "print('accuracy score on test data for Neural Network',\"{:.0%}\".format(accuracy_score(Y_true_NN,Y_predic_NN)))\n",
        "print('\\n')\n",
        "print('Optimal hyperparameter tuning time for random forest:', rf_time)\n",
        "print('Optimal hyperparameter tuning time for SVM:', SVM_rbf_time)\n",
        "print('Training time for Neural Network:', NN_time)"
      ],
      "execution_count": null,
      "outputs": [
        {
          "output_type": "stream",
          "text": [
            "accuracy score on test data for random forest 52%\n",
            "accuracy score on test data for SVM 48%\n",
            "accuracy score on test data for Neural Network 44%\n",
            "\n",
            "\n",
            "Optimal hyperparameter tuning for random forest: 72.82194910400017\n",
            "Optimal hyperparameter tuning for SVM: 127.6744844110001\n",
            "Training time for Neural Network: 10.72920850000014\n"
          ],
          "name": "stdout"
        }
      ]
    },
    {
      "cell_type": "markdown",
      "metadata": {
        "id": "d4UB1XTjF85j"
      },
      "source": [
        "\n",
        "\n",
        "---\n",
        "As we can see, random forest perform the best in overall performance and gets the highest overall score. \n",
        "\n",
        "Random forest training can be highly parallelized and can run effectively on large data sets. The model can still be trained efficiently when the sample feature dimension is high. The generalized ability of the finally trained model is strong. We can find the importance of each feature that has largest impact on prediction by cross validation.\n",
        "\n",
        "SVM is mainly used in the case of linear inseparability. The classification results are very dependent on the parameters. It basically does not involve the measurement of probability. The final decision function of the SVM is determined only by a small number of support vectors therefore he complexity of the calculation depends on the number of support vectors, not the dimension of the sample space, which avoids curse of dimensionality in a sense. An disadvantage is when we use cross-validation of training data to find suitable parameters and this process is time consuming but finding the optimal hyperparameter is crucial since the system default parameter generally perform worse.\n",
        "\n",
        "There are some data rated 'Very good' but has similar feature to other ratings and our neural network model is quite sensitive to these data which leads to poor performance. Our data set only has 6 features which means low dimension data, random forest is capable and perform the best on the test data therefore i would recommend random forest to the manager.\n",
        "\n",
        "\n",
        "\n",
        "\n",
        "\n",
        ".\n"
      ]
    },
    {
      "cell_type": "markdown",
      "metadata": {
        "id": "ZmDQcDdjc4c2"
      },
      "source": [
        "# Task 5\n",
        "\n"
      ]
    },
    {
      "cell_type": "markdown",
      "metadata": {
        "id": "Pa63K8PQADBP"
      },
      "source": [
        "## 5.1\n",
        " (20 marks) Consider the NN model with the same hyperparameters and options that you implemented\n",
        "in Task 3. Optimise a new NN where the architecture is changed to have 5 hidden layers with 80 neurons each. Compare the performance of this 'deep' network to the 'shallow' network in Task 3 in terms of\n",
        "performance, training and computational cost. Provide evidence and computations to support and document your analysis. "
      ]
    },
    {
      "cell_type": "code",
      "metadata": {
        "id": "KZVVqSNoiT6H"
      },
      "source": [
        "input_size = 6   #6 features  \n",
        "hidden_size = 80\n",
        "num_classes = 4   #4 classes(unacceptable,acceptable,good,very good)\n",
        "num_epochs = 120\n",
        "batch_size = 64\n",
        "learning_rate = 0.01"
      ],
      "execution_count": null,
      "outputs": []
    },
    {
      "cell_type": "code",
      "metadata": {
        "id": "HPqKY-Dv3zC_"
      },
      "source": [
        "# prepare data\n",
        "X_train_NN = torch.from_numpy(X_train.values).float()\n",
        "Y_train_NN = torch.from_numpy(np.array(Y_train_N))\n",
        "\n",
        "X_test_NN = torch.from_numpy(X_test.values).float()\n",
        "Y_test_NN = torch.from_numpy(np.array(Y_test_N))\n",
        "\n",
        "\n",
        "\n",
        "# loading data \n",
        "\n",
        "train = torch.utils.data.TensorDataset(X_train_NN, Y_train_NN)\n",
        "train_loader = torch.utils.data.DataLoader(train, batch_size=batch_size)\n",
        "\n",
        "test = torch.utils.data.TensorDataset(X_test_NN, Y_test_NN)\n",
        "test_loader = torch.utils.data.DataLoader(test, batch_size=batch_size)\n"
      ],
      "execution_count": null,
      "outputs": []
    },
    {
      "cell_type": "code",
      "metadata": {
        "id": "GnCB8omP9YaI"
      },
      "source": [
        "def NNwork(input_size,hidden_size,num_classes,num_epochs,batch_size,learning_rate):\n",
        "  Y_true=[]\n",
        "  Y_predic=[]\n",
        "  #Set up the Neural Network\n",
        "  class NeuralNet(nn.Module):\n",
        "      def __init__(self, input_size, hidden_size, num_classes):\n",
        "          super(NeuralNet, self).__init__()\n",
        "          self.fc1 = nn.Linear(input_size, hidden_size)\n",
        "          self.fc2 = nn.Linear(hidden_size, hidden_size)\n",
        "          self.fc3 = nn.Linear(hidden_size, num_classes)\n",
        "      \n",
        "      def forward(self, x):\n",
        "          out = F.relu(self.fc1(x))\n",
        "          out = F.relu(self.fc2(out))\n",
        "          out = self.fc3(out)\n",
        "          return out\n",
        "\n",
        "  #Call the NN\n",
        "  net = NeuralNet(input_size, hidden_size, num_classes)\n",
        "\n",
        "  #Loss function and optimiser\n",
        "\n",
        "  criterion = nn.CrossEntropyLoss()\n",
        "\n",
        "  optimiser = torch.optim.SGD(net.parameters(), lr=learning_rate)  \n",
        "  total_step = len(train_loader)\n",
        "  loss_values = []\n",
        "  for epoch in range(num_epochs+1):\n",
        "\n",
        "  ###################\n",
        "  # train the model #\n",
        "  ###################\n",
        "    net.train()\n",
        "    train_loss = 0.0\n",
        "\n",
        "    for i, (descriptor, labels) in enumerate(train_loader, 0):\n",
        "    \n",
        "      labels=labels.squeeze()\n",
        "      \n",
        "        \n",
        "    # forward pass\n",
        "      outputs = net(descriptor)\n",
        "      loss = criterion(outputs, labels)\n",
        "        \n",
        "    # backward and optimise\n",
        "      optimiser.zero_grad()\n",
        "      loss.backward()\n",
        "      optimiser.step()\n",
        "\n",
        "    # update loss\n",
        "      train_loss += loss.item()\n",
        "        \n",
        "    loss_values.append(train_loss/total_step)\n",
        "\n",
        "  \n",
        "#Evaluate the performance \n",
        "  net.eval()\n",
        "\n",
        "  correct = 0\n",
        "  total = 0\n",
        "  for descriptor, labels in test_loader:\n",
        "    labels = labels.squeeze()\n",
        "    outputs = net(descriptor)\n",
        "    _, predicted = torch.max(outputs.data, 1)\n",
        "    total += labels.size(0)\n",
        "    correct += (predicted == labels).sum().item()\n",
        "  print('Accuracy on test data: {} %'.format(100 * correct / total))\n",
        "\n",
        "  return loss_values"
      ],
      "execution_count": null,
      "outputs": []
    },
    {
      "cell_type": "code",
      "metadata": {
        "id": "cJ2H-RGaxtrc",
        "outputId": "5aafa125-1fc7-4ef9-c23e-84055008968d",
        "colab": {
          "base_uri": "https://localhost:8080/",
          "height": 51
        }
      },
      "source": [
        "\n",
        "import time\n",
        "\n",
        "# Get the process time for 'shallow' neural network\n",
        "start = time.process_time()\n",
        "loss=NNwork(input_size,200,num_classes,num_epochs,batch_size,learning_rate)  \n",
        "print('computation time for shallow NN:',time.process_time() - start)"
      ],
      "execution_count": null,
      "outputs": [
        {
          "output_type": "stream",
          "text": [
            "Accuracy on test data: 44.858870967741936 %\n",
            "computation time for shallow NN: 10.688605619999635\n"
          ],
          "name": "stdout"
        }
      ]
    },
    {
      "cell_type": "code",
      "metadata": {
        "id": "SBTdYcSRc8C7"
      },
      "source": [
        "def NNwork_deep(input_size,hidden_size,num_classes,num_epochs,batch_size,learning_rate):\n",
        "\n",
        "\n",
        "  #Set up the Neural Network\n",
        "  class NeuralNet(nn.Module):\n",
        "      def __init__(self, input_size, hidden_size, num_classes):\n",
        "          super(NeuralNet, self).__init__()\n",
        "          self.fc1 = nn.Linear(input_size, hidden_size)\n",
        "          self.fc2 = nn.Linear(hidden_size, hidden_size)\n",
        "          self.fc3 = nn.Linear(hidden_size, hidden_size)\n",
        "          self.fc4 = nn.Linear(hidden_size, hidden_size)\n",
        "          self.fc5 = nn.Linear(hidden_size, hidden_size)\n",
        "          self.fc6 = nn.Linear(hidden_size, num_classes)\n",
        "      \n",
        "      def forward(self, x):\n",
        "          out = F.relu(self.fc1(x))\n",
        "          out = F.relu(self.fc2(out))\n",
        "          out = F.relu(self.fc3(out))\n",
        "          out = F.dropout(out,p=0.8)\n",
        "          out = F.relu(self.fc4(out))\n",
        "          out = F.relu(self.fc5(out))\n",
        "          out = self.fc6(out)\n",
        "          return out\n",
        "\n",
        "  #Call the NN\n",
        "  net_deep = NeuralNet(input_size, hidden_size, num_classes)\n",
        "\n",
        "  #Loss function and optimiser\n",
        "\n",
        "  criterion = nn.CrossEntropyLoss()\n",
        "\n",
        "  optimiser = torch.optim.SGD(net_deep.parameters(), lr=learning_rate)  \n",
        "  total_step = len(train_loader)\n",
        "  loss_values = []\n",
        "  for epoch in range(num_epochs+1):\n",
        "\n",
        "  ###################\n",
        "  # train the model #\n",
        "  ###################\n",
        "    net_deep.train()\n",
        "    train_loss = 0.0\n",
        "\n",
        "    for i, (descriptor, labels) in enumerate(train_loader, 0):\n",
        "    \n",
        "      labels=labels.squeeze()\n",
        "      \n",
        "        \n",
        "    # forward pass\n",
        "      outputs = net_deep(descriptor)\n",
        "      loss = criterion(outputs, labels)\n",
        "        \n",
        "    # backward and optimise\n",
        "      optimiser.zero_grad()\n",
        "      loss.backward()\n",
        "      optimiser.step()\n",
        "\n",
        "    # update loss\n",
        "      train_loss += loss.item()\n",
        "\n",
        "    \n",
        "    loss_values.append(train_loss/total_step)\n",
        "\n",
        "  #Evaluate the performance \n",
        "  net_deep.eval()\n",
        "\n",
        "  correct = 0\n",
        "  total = 0\n",
        "  for descriptor, labels in test_loader:\n",
        "    labels = labels.squeeze()\n",
        "    outputs = net_deep(descriptor)\n",
        "    _, predicted = torch.max(outputs.data, 1)\n",
        "    total += labels.size(0)\n",
        "    correct += (predicted == labels).sum().item()\n",
        "  print('Accuracy on test data: {} %'.format(100 * correct / total))\n",
        "\n",
        "  return loss_values\n",
        "\n",
        "\n",
        "\n"
      ],
      "execution_count": null,
      "outputs": []
    },
    {
      "cell_type": "code",
      "metadata": {
        "id": "Rr2VIQHC-WJh",
        "outputId": "254ea47e-9c0f-4ef3-d1ef-9ed2de5e7de0",
        "colab": {
          "base_uri": "https://localhost:8080/",
          "height": 51
        }
      },
      "source": [
        "# Get the process time for 'deep' neural network\n",
        "start = time.process_time()\n",
        "loss_deep=NNwork_deep(input_size,80,num_classes,num_epochs,batch_size,learning_rate)  \n",
        "print('computation time for deep NN:',time.process_time() - start)"
      ],
      "execution_count": null,
      "outputs": [
        {
          "output_type": "stream",
          "text": [
            "Accuracy on test data: 36.189516129032256 %\n",
            "computation time for deep NN: 11.35638072300003\n"
          ],
          "name": "stdout"
        }
      ]
    },
    {
      "cell_type": "markdown",
      "metadata": {
        "id": "hhIJns7uSqGM"
      },
      "source": [
        "The performance is worsen in 'deep' Neural Network and the computation cost is larger for 'deep' Neural Network, the time used is longer."
      ]
    },
    {
      "cell_type": "markdown",
      "metadata": {
        "id": "x_I_h_P2AHjk"
      },
      "source": [
        "## 5.2\n",
        "Consider the NN model you implemented in Task 3. Optimise a NN with the same architecture and hyperparameters/options as in Task 3 but changing the activation units from ReLU to Sigmoidal.\n",
        "Compare the performance of the ReLU and sigmoidal NNs and, specifically, their speed of convergence.\n",
        "Provide evidence and computations to support and document your analysis. "
      ]
    },
    {
      "cell_type": "code",
      "metadata": {
        "id": "IYkEE-2q_gA7"
      },
      "source": [
        "def NNwork_sigmoid(input_size,hidden_size,num_classes,num_epochs,batch_size,learning_rate):\n",
        "\n",
        "  #Set up the Neural Network\n",
        "  class NeuralNet(nn.Module):\n",
        "      def __init__(self, input_size, hidden_size, num_classes):\n",
        "          super(NeuralNet, self).__init__()\n",
        "          self.fc1 = nn.Linear(input_size, hidden_size)\n",
        "          self.fc2 = nn.Linear(hidden_size, hidden_size)\n",
        "          self.fc3 = nn.Linear(hidden_size, num_classes)\n",
        "      \n",
        "      def forward(self, x):\n",
        "          out = F.sigmoid(self.fc1(x))\n",
        "          out = F.sigmoid(self.fc2(out))\n",
        "          out = self.fc3(out)\n",
        "          return out\n",
        "\n",
        "  #Call the NN\n",
        "  net = NeuralNet(input_size, hidden_size, num_classes)\n",
        "\n",
        "  #Loss function and optimiser\n",
        "\n",
        "  criterion = nn.CrossEntropyLoss()\n",
        "\n",
        "  optimiser = torch.optim.SGD(net.parameters(), lr=learning_rate)  \n",
        "  total_step = len(train_loader)\n",
        "  loss_values = []\n",
        "  for epoch in range(num_epochs+1):\n",
        "\n",
        "  ###################\n",
        "  # train the model #\n",
        "  ###################\n",
        "    net.train()\n",
        "    train_loss = 0.0\n",
        "\n",
        "    for i, (descriptor, labels) in enumerate(train_loader, 0):\n",
        "    \n",
        "      labels=labels.squeeze()\n",
        "      \n",
        "        \n",
        "    # forward pass\n",
        "      outputs = net(descriptor)\n",
        "      loss = criterion(outputs, labels)\n",
        "        \n",
        "    # backward and optimise\n",
        "      optimiser.zero_grad()\n",
        "      loss.backward()\n",
        "      optimiser.step()\n",
        "\n",
        "    # update loss\n",
        "      train_loss += loss.item()\n",
        "        \n",
        "    loss_values.append(train_loss/total_step)\n",
        "\n",
        "  \n",
        "\n",
        "  return loss_values"
      ],
      "execution_count": null,
      "outputs": []
    },
    {
      "cell_type": "code",
      "metadata": {
        "id": "qmCzs4pn1lhR",
        "outputId": "44f4d7c1-7607-4076-ae32-1d7c36ffc331",
        "colab": {
          "base_uri": "https://localhost:8080/",
          "height": 559
        }
      },
      "source": [
        "import time\n",
        "\n",
        "learning_rate=0.00005\n",
        "batch_size=64\n",
        "# Get the process time for 'shallow' neural network\n",
        "start = time.process_time()\n",
        "loss=NNwork_sigmoid(input_size,200,num_classes,num_epochs,batch_size,learning_rate)  \n",
        "\n",
        "#Plot the training loss\n",
        "\n",
        "plt.style.use('ggplot')\n",
        "plt.figure(figsize=(12,8))\n",
        "plt.xlim(-1, num_epochs+1)\n",
        "plt.ylabel('Training Loss', fontsize=20)\n",
        "plt.xlabel('Epoch', fontsize=20)\n",
        "plt.plot(loss)\n",
        "plt.title('Original Parameters')"
      ],
      "execution_count": null,
      "outputs": [
        {
          "output_type": "stream",
          "text": [
            "Accuracy on test data: 18.951612903225808 %\n"
          ],
          "name": "stdout"
        },
        {
          "output_type": "execute_result",
          "data": {
            "text/plain": [
              "Text(0.5, 1.0, 'Original Parameters')"
            ]
          },
          "metadata": {
            "tags": []
          },
          "execution_count": 205
        },
        {
          "output_type": "display_data",
          "data": {
            "image/png": "[encoded data removed]",
            "text/plain": [
              "<Figure size 864x576 with 1 Axes>"
            ]
          },
          "metadata": {
            "tags": []
          }
        }
      ]
    },
    {
      "cell_type": "markdown",
      "metadata": {
        "id": "8FVW5X_-Wog0"
      },
      "source": [
        "As we choose a small learning rate=0.00005, generaly means slow convergence rate but for sigmoid activation function it still coverges quickly, which indicates that Sigmoid NN converges faster than ReLu NN."
      ]
    }
  ]
}